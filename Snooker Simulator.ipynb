{
 "cells": [
  {
   "cell_type": "code",
   "execution_count": 1,
   "metadata": {},
   "outputs": [],
   "source": [
    "import elo\n",
    "import pickle\n",
    "import pandas as pd\n",
    "import seaborn as sns\n",
    "import matplotlib.pyplot as plt"
   ]
  },
  {
   "cell_type": "code",
   "execution_count": 2,
   "metadata": {},
   "outputs": [],
   "source": [
    "sns.set_style('whitegrid')"
   ]
  },
  {
   "cell_type": "code",
   "execution_count": 3,
   "metadata": {},
   "outputs": [],
   "source": [
    "with open('data/snooker_ratings.pickle','rb') as f:\n",
    "    s_ratings = pickle.load(f)"
   ]
  },
  {
   "cell_type": "code",
   "execution_count": 4,
   "metadata": {},
   "outputs": [],
   "source": [
    "wsc_draw = [\n",
    "    [\n",
    "        [\n",
    "            ['Barry Hawkins','Kyren Wilson'],\n",
    "            'Dave Gilbert',\n",
    "        ],\n",
    "        [\n",
    "            ['John Higgins','Stuart Bingham'],\n",
    "            'Neil Robertson',\n",
    "        ],\n",
    "    ],\n",
    "    [\n",
    "        [\n",
    "            ['Ali Carter', 'Zhou Yuelong'],\n",
    "            'Gary Wilson',\n",
    "        ],\n",
    "        [\n",
    "            ['Judd Trump','Ding Junhui'],\n",
    "            'Stephen Maguire'\n",
    "        ]\n",
    "        ]\n",
    "    ]"
   ]
  },
  {
   "cell_type": "code",
   "execution_count": null,
   "metadata": {},
   "outputs": [],
   "source": [
    "sim_wsc = elo.sim_multiple_tournaments(tree=wsc_draw,\n",
    "                                      elo_dict=s_ratings)"
   ]
  },
  {
   "cell_type": "code",
   "execution_count": null,
   "metadata": {},
   "outputs": [],
   "source": [
    "elo.plot_counter(plt_data=sim_wsc, \n",
    "                      title='World Snooker Championships winning prob.', plot_name='wsg_win_prob.png')"
   ]
  },
  {
   "cell_type": "code",
   "execution_count": null,
   "metadata": {},
   "outputs": [],
   "source": []
  }
 ],
 "metadata": {
  "kernelspec": {
   "display_name": "Python 3",
   "language": "python",
   "name": "python3"
  },
  "language_info": {
   "codemirror_mode": {
    "name": "ipython",
    "version": 3
   },
   "file_extension": ".py",
   "mimetype": "text/x-python",
   "name": "python",
   "nbconvert_exporter": "python",
   "pygments_lexer": "ipython3",
   "version": "3.7.3"
  }
 },
 "nbformat": 4,
 "nbformat_minor": 2
}
