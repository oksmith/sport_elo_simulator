{
 "cells": [
  {
   "cell_type": "code",
   "execution_count": 1,
   "metadata": {},
   "outputs": [],
   "source": [
    "import pandas as pd\n",
    "import numpy as np\n",
    "import seaborn as sns\n",
    "import elo\n",
    "from copy import deepcopy\n",
    "import matplotlib.pyplot as plt\n",
    "sns.set_style('whitegrid')\n",
    "import ratings_scraper"
   ]
  },
  {
   "cell_type": "code",
   "execution_count": 2,
   "metadata": {},
   "outputs": [],
   "source": [
    "SAMPLE_NUM = 10000"
   ]
  },
  {
   "cell_type": "markdown",
   "metadata": {},
   "source": [
    "Hacky - adding numbers < 1 to teams with big goal difference advantage"
   ]
  },
  {
   "cell_type": "code",
   "execution_count": 3,
   "metadata": {},
   "outputs": [],
   "source": [
    "standings = {\n",
    "    'Man City':86.5,\n",
    "    'Liverpool':88,\n",
    "    'Tottenham':67.7,\n",
    "    'Arsenal': 66.3,\n",
    "    'Chelsea': 66,\n",
    "    'Man United':64,\n",
    "    'Leicester':48,\n",
    "    'Wolves':48,\n",
    "    'Everton':49,\n",
    "    'Watford':49,\n",
    "    'West Ham':43,\n",
    "    'Bournemouth':41,\n",
    "    'Crystal Palace':39,\n",
    "    'Burnley':39,\n",
    "    'Newcastle':41,\n",
    "    'Southampton':36,\n",
    "    'Brighton':34,\n",
    "    'Cardiff':31,\n",
    "    'Fulham':23,\n",
    "    'Huddersfield':14,   \n",
    "}"
   ]
  },
  {
   "cell_type": "markdown",
   "metadata": {},
   "source": [
    "Only run if you want to update ratings - needs internet connection!"
   ]
  },
  {
   "cell_type": "code",
   "execution_count": 5,
   "metadata": {},
   "outputs": [
    {
     "name": "stdout",
     "output_type": "stream",
     "text": [
      "Done!\n"
     ]
    }
   ],
   "source": [
    "ratings_scraper.update_ratings()"
   ]
  },
  {
   "cell_type": "code",
   "execution_count": 6,
   "metadata": {},
   "outputs": [],
   "source": [
    "ratings_df = pd.read_csv('data/ratings_latest.csv')"
   ]
  },
  {
   "cell_type": "code",
   "execution_count": 7,
   "metadata": {},
   "outputs": [],
   "source": [
    "prem_clubs = ['Man City',\n",
    " 'Liverpool',\n",
    " 'Tottenham',\n",
    " 'Arsenal',\n",
    " 'Chelsea',\n",
    " 'Man United',\n",
    " 'Leicester',\n",
    " 'Wolves',\n",
    " 'Everton',\n",
    " 'Watford',\n",
    " 'West Ham',\n",
    " 'Bournemouth',\n",
    " 'Crystal Palace',\n",
    " 'Burnley',\n",
    " 'Newcastle',\n",
    " 'Southampton',\n",
    " 'Brighton',\n",
    " 'Cardiff',\n",
    " 'Fulham',\n",
    " 'Huddersfield']"
   ]
  },
  {
   "cell_type": "code",
   "execution_count": 8,
   "metadata": {},
   "outputs": [
    {
     "data": {
      "text/plain": [
       "['Man City',\n",
       " 'Liverpool',\n",
       " 'Tottenham',\n",
       " 'Arsenal',\n",
       " 'Chelsea',\n",
       " 'Man United',\n",
       " 'Leicester',\n",
       " 'Wolves',\n",
       " 'Everton',\n",
       " 'Watford',\n",
       " 'West Ham',\n",
       " 'Bournemouth',\n",
       " 'Crystal Palace',\n",
       " 'Burnley',\n",
       " 'Newcastle',\n",
       " 'Southampton',\n",
       " 'Brighton',\n",
       " 'Cardiff',\n",
       " 'Fulham',\n",
       " 'Huddersfield']"
      ]
     },
     "execution_count": 8,
     "metadata": {},
     "output_type": "execute_result"
    }
   ],
   "source": [
    "prem_clubs"
   ]
  },
  {
   "cell_type": "code",
   "execution_count": 9,
   "metadata": {},
   "outputs": [],
   "source": [
    "ratings = ratings_scraper.filter_ratings(ratings_df, prem_clubs)"
   ]
  },
  {
   "cell_type": "code",
   "execution_count": 10,
   "metadata": {},
   "outputs": [],
   "source": [
    "fixtures = [\n",
    "    ['Chelsea','Burnley'],\n",
    "    ['Watford','Southampton'],\n",
    "    ['Tottenham','Brighton'],\n",
    "    ['Wolves','Arsenal'],\n",
    "    ['Man United','Man City'],\n",
    "    ['Liverpool','Huddersfield'],\n",
    "    ['Tottenham','West Ham'],\n",
    "    ['Southampton','Bournemouth'],\n",
    "    ['Fulham','Cardiff'],\n",
    "    ['Watford','Wolves'],\n",
    "    ['Crystal Palace','Everton'],\n",
    "    ['Brighton','Newcastle'],\n",
    "    ['Burnley','Man City'],\n",
    "    ['Man United','Chelsea'],\n",
    "    ['Leicester','Arsenal'],\n",
    "    ['Everton','Burnley'],\n",
    "    ['Man City','Leicester'],\n",
    "    ['West Ham','Southampton'],\n",
    "    ['Wolves','Fulham'],\n",
    "    ['Chelsea','Watford'],\n",
    "    ['Arsenal','Brighton'],\n",
    "    ['Cardiff','Crystal Palace'],\n",
    "    ['Huddersfield','Man United'],\n",
    "    ['Newcastle','Liverpool'],\n",
    "    ['Bournemouth','Tottenham'],\n",
    "    ['Tottenham','Everton'],\n",
    "    ['Man United','Cardiff'],\n",
    "    ['Watford','West Ham'],\n",
    "    ['Southampton','Huddersfield'],\n",
    "    ['Leicester','Chelsea'],\n",
    "    ['Fulham','Newcastle'],\n",
    "    ['Liverpool','Wolves'],\n",
    "    ['Crystal Palace','Bournemouth'],\n",
    "    ['Brighton','Man City'],\n",
    "    ['Burnley','Arsenal'],\n",
    "]"
   ]
  },
  {
   "cell_type": "code",
   "execution_count": 11,
   "metadata": {},
   "outputs": [],
   "source": [
    "l = elo.League(ratings=deepcopy(ratings),\n",
    "          standings=deepcopy(standings),\n",
    "          fixtures=deepcopy(fixtures),\n",
    "              k_factor=15,\n",
    "              draw_rate=0.4,\n",
    "              home_advantage=0.1)"
   ]
  },
  {
   "cell_type": "code",
   "execution_count": 12,
   "metadata": {},
   "outputs": [
    {
     "data": {
      "text/plain": [
       "(0.3723894292691322,\n",
       " (0.27929207195184913, 0.1861947146345661, 0.5345132134135848))"
      ]
     },
     "execution_count": 12,
     "metadata": {},
     "output_type": "execute_result"
    }
   ],
   "source": [
    "l.get_outcome_probs('Man United','Man City')"
   ]
  },
  {
   "cell_type": "code",
   "execution_count": 13,
   "metadata": {},
   "outputs": [
    {
     "name": "stdout",
     "output_type": "stream",
     "text": [
      "9000/10000\n"
     ]
    }
   ],
   "source": [
    "points_totals, rankings = elo.sim_multiple_leagues(ratings, standings, fixtures, SAMPLE_NUM,\n",
    "                                                  k_factor = 15, draw_rate = 0.4, home_advantage=0.1)"
   ]
  },
  {
   "cell_type": "code",
   "execution_count": 14,
   "metadata": {},
   "outputs": [
    {
     "data": {
      "text/plain": [
       "[['Chelsea', 'Burnley'],\n",
       " ['Man United', 'Chelsea'],\n",
       " ['Chelsea', 'Watford'],\n",
       " ['Leicester', 'Chelsea']]"
      ]
     },
     "execution_count": 14,
     "metadata": {},
     "output_type": "execute_result"
    }
   ],
   "source": [
    "[f for f in fixtures if f[0] == 'Chelsea' or f[1] == 'Chelsea']"
   ]
  },
  {
   "cell_type": "code",
   "execution_count": 15,
   "metadata": {},
   "outputs": [
    {
     "data": {
      "text/plain": [
       "[['Man United', 'Man City'],\n",
       " ['Man United', 'Chelsea'],\n",
       " ['Huddersfield', 'Man United'],\n",
       " ['Man United', 'Cardiff']]"
      ]
     },
     "execution_count": 15,
     "metadata": {},
     "output_type": "execute_result"
    }
   ],
   "source": [
    "[f for f in fixtures if f[0] == 'Man United' or f[1] == 'Man United']"
   ]
  },
  {
   "cell_type": "code",
   "execution_count": 16,
   "metadata": {},
   "outputs": [
    {
     "data": {
      "text/plain": [
       "[['Tottenham', 'Brighton'],\n",
       " ['Tottenham', 'West Ham'],\n",
       " ['Bournemouth', 'Tottenham'],\n",
       " ['Tottenham', 'Everton']]"
      ]
     },
     "execution_count": 16,
     "metadata": {},
     "output_type": "execute_result"
    }
   ],
   "source": [
    "[f for f in fixtures if f[0] == 'Tottenham' or f[1] == 'Tottenham']"
   ]
  },
  {
   "cell_type": "code",
   "execution_count": 17,
   "metadata": {},
   "outputs": [],
   "source": [
    "rankings_df = pd.melt(pd.DataFrame(rankings)).rename(columns={'variable':'club',\n",
    "                           'value':'position'})"
   ]
  },
  {
   "cell_type": "code",
   "execution_count": 18,
   "metadata": {},
   "outputs": [],
   "source": [
    "title_race = rankings_df.loc[rankings_df.position == 1,'club'].value_counts()"
   ]
  },
  {
   "cell_type": "code",
   "execution_count": 19,
   "metadata": {},
   "outputs": [
    {
     "data": {
      "image/png": "[encoded data removed]",
      "text/plain": [
       "<Figure size 432x288 with 1 Axes>"
      ]
     },
     "metadata": {},
     "output_type": "display_data"
    }
   ],
   "source": [
    "ax = title_race.plot.pie()\n",
    "ax.set_title('League winning prob. \\n')\n",
    "plt.show()"
   ]
  },
  {
   "cell_type": "code",
   "execution_count": 20,
   "metadata": {},
   "outputs": [],
   "source": [
    "top_4 = (rankings_df.loc[\n",
    "    rankings_df.position < 5,'club'].value_counts() / SAMPLE_NUM)\n"
   ]
  },
  {
   "cell_type": "code",
   "execution_count": 21,
   "metadata": {},
   "outputs": [
    {
     "data": {
      "image/png": "[encoded data removed]",
      "text/plain": [
       "<Figure size 432x288 with 1 Axes>"
      ]
     },
     "metadata": {
      "needs_background": "light"
     },
     "output_type": "display_data"
    }
   ],
   "source": [
    "elo.plot_series(top_4.index,top_4 * 100,'Top 4')"
   ]
  },
  {
   "cell_type": "code",
   "execution_count": 22,
   "metadata": {},
   "outputs": [],
   "source": [
    "religated = rankings_df.loc[rankings_df.position > 17,'club'].value_counts() / SAMPLE_NUM"
   ]
  },
  {
   "cell_type": "code",
   "execution_count": 23,
   "metadata": {},
   "outputs": [
    {
     "data": {
      "image/png": "[encoded data removed]",
      "text/plain": [
       "<Figure size 432x288 with 1 Axes>"
      ]
     },
     "metadata": {
      "needs_background": "light"
     },
     "output_type": "display_data"
    }
   ],
   "source": [
    "elo.plot_series(religated.index,religated * 100,'Religated')"
   ]
  },
  {
   "cell_type": "code",
   "execution_count": 24,
   "metadata": {},
   "outputs": [],
   "source": [
    "points_df = pd.melt(pd.DataFrame(points_totals)).rename(columns={'variable':'club',\n",
    "                           'value':'points'})"
   ]
  },
  {
   "cell_type": "code",
   "execution_count": 25,
   "metadata": {},
   "outputs": [
    {
     "data": {
      "text/plain": [
       "<matplotlib.axes._subplots.AxesSubplot at 0x1a19aee160>"
      ]
     },
     "execution_count": 25,
     "metadata": {},
     "output_type": "execute_result"
    },
    {
     "data": {
      "image/png": "[encoded data removed]",
      "text/plain": [
       "<Figure size 432x288 with 1 Axes>"
      ]
     },
     "metadata": {
      "needs_background": "light"
     },
     "output_type": "display_data"
    }
   ],
   "source": [
    "sns.boxplot(data=points_df,y='club',x='points')"
   ]
  },
  {
   "cell_type": "code",
   "execution_count": null,
   "metadata": {},
   "outputs": [],
   "source": []
  },
  {
   "cell_type": "code",
   "execution_count": null,
   "metadata": {},
   "outputs": [],
   "source": []
  }
 ],
 "metadata": {
  "kernelspec": {
   "display_name": "Python 3",
   "language": "python",
   "name": "python3"
  },
  "language_info": {
   "codemirror_mode": {
    "name": "ipython",
    "version": 3
   },
   "file_extension": ".py",
   "mimetype": "text/x-python",
   "name": "python",
   "nbconvert_exporter": "python",
   "pygments_lexer": "ipython3",
   "version": "3.7.1"
  }
 },
 "nbformat": 4,
 "nbformat_minor": 2
}
