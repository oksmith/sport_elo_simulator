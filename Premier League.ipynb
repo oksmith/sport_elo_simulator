{
 "cells": [
  {
   "cell_type": "code",
   "execution_count": 1,
   "metadata": {},
   "outputs": [],
   "source": [
    "import pandas as pd\n",
    "import numpy as np\n",
    "import seaborn as sns\n",
    "import elo\n",
    "from copy import deepcopy\n",
    "import matplotlib.pyplot as plt\n",
    "sns.set_style('whitegrid')"
   ]
  },
  {
   "cell_type": "code",
   "execution_count": 2,
   "metadata": {},
   "outputs": [],
   "source": [
    "SAMPLE_NUM = 100000"
   ]
  },
  {
   "cell_type": "code",
   "execution_count": 3,
   "metadata": {},
   "outputs": [],
   "source": [
    "standings = {\n",
    "    'Man City':86,\n",
    "    'Liverpool':85,\n",
    "    'Tottenham':67,\n",
    "    'Arsenal': 66,\n",
    "    'Chelsea': 66,\n",
    "    'Man United':64,\n",
    "    'Liecester':48,\n",
    "    'Wolves':48,\n",
    "    'Everton':46,\n",
    "    'Watford':49,\n",
    "    'West Ham':43,\n",
    "    'Bournemouth':41,\n",
    "    'Crystal Palace':39,\n",
    "    'Burnley':39,\n",
    "    'Newcastle':38,\n",
    "    'Southampton':36,\n",
    "    'Brighton':34,\n",
    "    'Cardiff':31,\n",
    "    'Fulham':23,\n",
    "    'Huddersfield':14,\n",
    "    \n",
    "}"
   ]
  },
  {
   "cell_type": "code",
   "execution_count": 4,
   "metadata": {},
   "outputs": [],
   "source": [
    "ratings = {\n",
    "     'Man City':2008,\n",
    "    'Liverpool':2006,\n",
    "    'Tottenham':1916,\n",
    "    'Arsenal': 1901,\n",
    "    'Chelsea': 1864,\n",
    "    'Man United':1888,\n",
    "    'Liecester':1709,\n",
    "    'Wolves':1685,\n",
    "    'Everton':1724,\n",
    "    'Watford':1704,\n",
    "        'West Ham':1679,\n",
    "    'Bournemouth':1686,\n",
    "    'Crystal Palace':1705,\n",
    "    'Burnley':1682,\n",
    "    'Newcastle':1685,\n",
    "    'Southampton':1688,\n",
    "        'Brighton':1598,\n",
    "        'Cardiff':1590,\n",
    "    'Fulham':1575,\n",
    "    'Huddersfield':1505,\n",
    "}"
   ]
  },
  {
   "cell_type": "code",
   "execution_count": 5,
   "metadata": {},
   "outputs": [],
   "source": [
    "fixtures = [\n",
    "    ['Newcastle','Southampton'],\n",
    "    ['Everton','Man United'],\n",
    "    ['Cardiff','Liverpool'],\n",
    "    ['Arsenal','Crystal Palace'],\n",
    "    ['Chelsea','Burnley'],\n",
    "    ['Watford','Southampton'],\n",
    "    ['Tottenham','Brighton'],\n",
    "    ['Wolves','Arsenal'],\n",
    "    ['Man United','Man City'],\n",
    "    ['Liverpool','Huddersfield'],\n",
    "    ['Tottenham','West Ham'],\n",
    "    ['Southampton','Bournemouth'],\n",
    "    ['Fulham','Cardiff'],\n",
    "    ['Watford','Wolves'],\n",
    "    ['Crystal Palace','Everton'],\n",
    "    ['Brighton','Newcastle'],\n",
    "    ['Burnley','Man City'],\n",
    "    ['Man United','Chelsea'],\n",
    "    ['Liecester','Arsenal'],\n",
    "    ['Everton','Burnley'],\n",
    "    ['Man City','Liecester'],\n",
    "    ['West Ham','Southampton'],\n",
    "    ['Wolves','Fulham'],\n",
    "    ['Chelsea','Watford'],\n",
    "    ['Arsenal','Brighton'],\n",
    "    ['Cardiff','Crystal Palace'],\n",
    "    ['Huddersfield','Man United'],\n",
    "    ['Newcastle','Liverpool'],\n",
    "    ['Bournemouth','Tottenham'],\n",
    "    ['Tottenham','Everton'],\n",
    "    ['Man United','Cardiff'],\n",
    "    ['Watford','West Ham'],\n",
    "    ['Southampton','Huddersfield'],\n",
    "    ['Liecester','Chelsea'],\n",
    "    ['Fulham','Newcastle'],\n",
    "    ['Liverpool','Wolves'],\n",
    "    ['Crystal Palace','Bournemouth'],\n",
    "    ['Brighton','Man City'],\n",
    "    ['Burnley','Arsenal'],\n",
    "]"
   ]
  },
  {
   "cell_type": "code",
   "execution_count": 6,
   "metadata": {},
   "outputs": [],
   "source": [
    "l = elo.League(ratings=deepcopy(ratings),\n",
    "          standings=deepcopy(standings),\n",
    "          fixtures=deepcopy(fixtures))"
   ]
  },
  {
   "cell_type": "code",
   "execution_count": 7,
   "metadata": {},
   "outputs": [
    {
     "data": {
      "text/plain": [
       "(0.502878199574811, (0.3528781995748109, 0.3, 0.3471218004251891))"
      ]
     },
     "execution_count": 7,
     "metadata": {},
     "output_type": "execute_result"
    }
   ],
   "source": [
    "l.get_outcome_probs('Man City','Liverpool')"
   ]
  },
  {
   "cell_type": "code",
   "execution_count": 8,
   "metadata": {},
   "outputs": [
    {
     "name": "stdout",
     "output_type": "stream",
     "text": [
      "0/1000001000/1000002000/1000003000/1000004000/1000005000/1000006000/1000007000/1000008000/1000009000/10000010000/10000011000/10000012000/10000013000/10000014000/10000015000/10000016000/10000017000/10000018000/10000019000/10000020000/10000021000/10000022000/10000023000/10000024000/10000025000/10000026000/10000027000/10000028000/10000029000/10000030000/10000031000/10000032000/10000033000/10000034000/10000035000/10000036000/10000037000/10000038000/10000039000/10000040000/10000041000/10000042000/10000043000/10000044000/10000045000/10000046000/10000047000/10000048000/10000049000/10000050000/10000051000/10000052000/10000053000/10000054000/10000055000/10000056000/10000057000/10000058000/10000059000/10000060000/10000061000/10000062000/10000063000/10000064000/10000065000/10000066000/10000067000/10000068000/10000069000/10000070000/10000071000/10000072000/10000073000/10000074000/10000075000/10000076000/10000077000/10000078000/10000079000/10000080000/10000081000/10000082000/10000083000/10000084000/10000085000/10000086000/10000087000/10000088000/10000089000/10000090000/10000091000/10000092000/10000093000/10000094000/10000095000/10000096000/10000097000/10000098000/10000099000/100000"
     ]
    }
   ],
   "source": [
    "points_totals, rankings = elo.sim_multiple_leagues(ratings, standings, fixtures, SAMPLE_NUM,\n",
    "                                                  k_factor = 15, draw_rate = 0.4)"
   ]
  },
  {
   "cell_type": "code",
   "execution_count": 9,
   "metadata": {},
   "outputs": [
    {
     "data": {
      "text/plain": [
       "[['Arsenal', 'Crystal Palace'],\n",
       " ['Wolves', 'Arsenal'],\n",
       " ['Liecester', 'Arsenal'],\n",
       " ['Arsenal', 'Brighton'],\n",
       " ['Burnley', 'Arsenal']]"
      ]
     },
     "execution_count": 9,
     "metadata": {},
     "output_type": "execute_result"
    }
   ],
   "source": [
    "[f for f in fixtures if f[0] == 'Arsenal' or f[1] == 'Arsenal']"
   ]
  },
  {
   "cell_type": "code",
   "execution_count": 10,
   "metadata": {},
   "outputs": [
    {
     "data": {
      "text/plain": [
       "[['Chelsea', 'Burnley'],\n",
       " ['Man United', 'Chelsea'],\n",
       " ['Chelsea', 'Watford'],\n",
       " ['Liecester', 'Chelsea']]"
      ]
     },
     "execution_count": 10,
     "metadata": {},
     "output_type": "execute_result"
    }
   ],
   "source": [
    "[f for f in fixtures if f[0] == 'Chelsea' or f[1] == 'Chelsea']"
   ]
  },
  {
   "cell_type": "code",
   "execution_count": 11,
   "metadata": {},
   "outputs": [
    {
     "data": {
      "text/plain": [
       "[['Everton', 'Man United'],\n",
       " ['Man United', 'Man City'],\n",
       " ['Man United', 'Chelsea'],\n",
       " ['Huddersfield', 'Man United'],\n",
       " ['Man United', 'Cardiff']]"
      ]
     },
     "execution_count": 11,
     "metadata": {},
     "output_type": "execute_result"
    }
   ],
   "source": [
    "[f for f in fixtures if f[0] == 'Man United' or f[1] == 'Man United']"
   ]
  },
  {
   "cell_type": "code",
   "execution_count": 12,
   "metadata": {},
   "outputs": [
    {
     "data": {
      "text/plain": [
       "[['Tottenham', 'Brighton'],\n",
       " ['Tottenham', 'West Ham'],\n",
       " ['Bournemouth', 'Tottenham'],\n",
       " ['Tottenham', 'Everton']]"
      ]
     },
     "execution_count": 12,
     "metadata": {},
     "output_type": "execute_result"
    }
   ],
   "source": [
    "[f for f in fixtures if f[0] == 'Tottenham' or f[1] == 'Tottenham']"
   ]
  },
  {
   "cell_type": "code",
   "execution_count": 13,
   "metadata": {},
   "outputs": [],
   "source": [
    "rankings_df = pd.melt(pd.DataFrame(rankings)).rename(columns={'variable':'club',\n",
    "                           'value':'position'})"
   ]
  },
  {
   "cell_type": "code",
   "execution_count": 14,
   "metadata": {},
   "outputs": [],
   "source": [
    "title_race = rankings_df.loc[rankings_df.position == 1,'club'].value_counts()"
   ]
  },
  {
   "cell_type": "code",
   "execution_count": 15,
   "metadata": {},
   "outputs": [
    {
     "data": {
      "image/png": "[encoded data removed]",
      "text/plain": [
       "<Figure size 432x288 with 1 Axes>"
      ]
     },
     "metadata": {},
     "output_type": "display_data"
    }
   ],
   "source": [
    "ax = title_race.plot.pie()\n",
    "ax.set_title('League winning prob. \\n')\n",
    "plt.show()"
   ]
  },
  {
   "cell_type": "code",
   "execution_count": 33,
   "metadata": {},
   "outputs": [
    {
     "data": {
      "text/plain": [
       "0.4444444444444444"
      ]
     },
     "execution_count": 33,
     "metadata": {},
     "output_type": "execute_result"
    }
   ],
   "source": [
    "4/9"
   ]
  },
  {
   "cell_type": "code",
   "execution_count": 29,
   "metadata": {},
   "outputs": [
    {
     "data": {
      "text/plain": [
       "0.6369426751592356"
      ]
     },
     "execution_count": 29,
     "metadata": {},
     "output_type": "execute_result"
    }
   ],
   "source": [
    "1/( 1.57)"
   ]
  },
  {
   "cell_type": "code",
   "execution_count": 30,
   "metadata": {},
   "outputs": [
    {
     "data": {
      "text/plain": [
       "0.38910505836575876"
      ]
     },
     "execution_count": 30,
     "metadata": {},
     "output_type": "execute_result"
    }
   ],
   "source": [
    "1/(2.57)"
   ]
  },
  {
   "cell_type": "code",
   "execution_count": 16,
   "metadata": {},
   "outputs": [],
   "source": [
    "top_4 = (rankings_df.loc[\n",
    "    rankings_df.position < 5,'club'].value_counts() / SAMPLE_NUM)\n"
   ]
  },
  {
   "cell_type": "code",
   "execution_count": 17,
   "metadata": {},
   "outputs": [
    {
     "data": {
      "image/png": "[encoded data removed]",
      "text/plain": [
       "<Figure size 432x288 with 1 Axes>"
      ]
     },
     "metadata": {
      "needs_background": "light"
     },
     "output_type": "display_data"
    }
   ],
   "source": [
    "elo.plot_series(top_4.index,top_4 * 100,'Top 4')"
   ]
  },
  {
   "cell_type": "code",
   "execution_count": 18,
   "metadata": {},
   "outputs": [
    {
     "data": {
      "text/html": [
       "<div>\n",
       "<style scoped>\n",
       "    .dataframe tbody tr th:only-of-type {\n",
       "        vertical-align: middle;\n",
       "    }\n",
       "\n",
       "    .dataframe tbody tr th {\n",
       "        vertical-align: top;\n",
       "    }\n",
       "\n",
       "    .dataframe thead th {\n",
       "        text-align: right;\n",
       "    }\n",
       "</style>\n",
       "<table border=\"1\" class=\"dataframe\">\n",
       "  <thead>\n",
       "    <tr style=\"text-align: right;\">\n",
       "      <th></th>\n",
       "      <th>index</th>\n",
       "      <th>club</th>\n",
       "    </tr>\n",
       "  </thead>\n",
       "  <tbody>\n",
       "    <tr>\n",
       "      <th>0</th>\n",
       "      <td>Liverpool</td>\n",
       "      <td>1.00000</td>\n",
       "    </tr>\n",
       "    <tr>\n",
       "      <th>1</th>\n",
       "      <td>Man City</td>\n",
       "      <td>1.00000</td>\n",
       "    </tr>\n",
       "    <tr>\n",
       "      <th>2</th>\n",
       "      <td>Arsenal</td>\n",
       "      <td>0.90620</td>\n",
       "    </tr>\n",
       "    <tr>\n",
       "      <th>3</th>\n",
       "      <td>Tottenham</td>\n",
       "      <td>0.66069</td>\n",
       "    </tr>\n",
       "    <tr>\n",
       "      <th>4</th>\n",
       "      <td>Chelsea</td>\n",
       "      <td>0.25575</td>\n",
       "    </tr>\n",
       "    <tr>\n",
       "      <th>5</th>\n",
       "      <td>Man United</td>\n",
       "      <td>0.17736</td>\n",
       "    </tr>\n",
       "  </tbody>\n",
       "</table>\n",
       "</div>"
      ],
      "text/plain": [
       "        index     club\n",
       "0   Liverpool  1.00000\n",
       "1    Man City  1.00000\n",
       "2     Arsenal  0.90620\n",
       "3   Tottenham  0.66069\n",
       "4     Chelsea  0.25575\n",
       "5  Man United  0.17736"
      ]
     },
     "execution_count": 18,
     "metadata": {},
     "output_type": "execute_result"
    }
   ],
   "source": [
    "pd.DataFrame(top_4).reset_index()"
   ]
  },
  {
   "cell_type": "code",
   "execution_count": 19,
   "metadata": {},
   "outputs": [],
   "source": [
    "religated = rankings_df.loc[rankings_df.position > 17,'club'].value_counts() / SAMPLE_NUM"
   ]
  },
  {
   "cell_type": "code",
   "execution_count": 20,
   "metadata": {},
   "outputs": [
    {
     "data": {
      "image/png": "[encoded data removed]",
      "text/plain": [
       "<Figure size 432x288 with 1 Axes>"
      ]
     },
     "metadata": {
      "needs_background": "light"
     },
     "output_type": "display_data"
    }
   ],
   "source": [
    "elo.plot_series(religated.index,religated * 100,'Religated')"
   ]
  },
  {
   "cell_type": "code",
   "execution_count": 21,
   "metadata": {},
   "outputs": [],
   "source": [
    "points_df = pd.melt(pd.DataFrame(points_totals)).rename(columns={'variable':'club',\n",
    "                           'value':'points'})"
   ]
  },
  {
   "cell_type": "code",
   "execution_count": 22,
   "metadata": {},
   "outputs": [
    {
     "name": "stderr",
     "output_type": "stream",
     "text": [
      "/anaconda3/lib/python3.7/site-packages/scipy/stats/stats.py:1713: FutureWarning: Using a non-tuple sequence for multidimensional indexing is deprecated; use `arr[tuple(seq)]` instead of `arr[seq]`. In the future this will be interpreted as an array index, `arr[np.array(seq)]`, which will result either in an error or a different result.\n",
      "  return np.add.reduce(sorted[indexer] * weights, axis=axis) / sumval\n"
     ]
    },
    {
     "data": {
      "text/plain": [
       "<matplotlib.axes._subplots.AxesSubplot at 0x1a2093c438>"
      ]
     },
     "execution_count": 22,
     "metadata": {},
     "output_type": "execute_result"
    },
    {
     "data": {
      "image/png": "[encoded data removed]",
      "text/plain": [
       "<Figure size 432x288 with 1 Axes>"
      ]
     },
     "metadata": {
      "needs_background": "light"
     },
     "output_type": "display_data"
    }
   ],
   "source": [
    "sns.violinplot(data=points_df,y='club',x='points')"
   ]
  },
  {
   "cell_type": "code",
   "execution_count": null,
   "metadata": {},
   "outputs": [],
   "source": []
  }
 ],
 "metadata": {
  "kernelspec": {
   "display_name": "Python 3",
   "language": "python",
   "name": "python3"
  },
  "language_info": {
   "codemirror_mode": {
    "name": "ipython",
    "version": 3
   },
   "file_extension": ".py",
   "mimetype": "text/x-python",
   "name": "python",
   "nbconvert_exporter": "python",
   "pygments_lexer": "ipython3",
   "version": "3.7.1"
  }
 },
 "nbformat": 4,
 "nbformat_minor": 2
}
