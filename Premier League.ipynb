{
 "cells": [
  {
   "cell_type": "code",
   "execution_count": 44,
   "metadata": {},
   "outputs": [],
   "source": [
    "import pandas as pd\n",
    "import numpy as np\n",
    "import seaborn as sns\n",
    "import elo\n",
    "from copy import deepcopy\n",
    "import matplotlib.pyplot as plt"
   ]
  },
  {
   "cell_type": "code",
   "execution_count": 59,
   "metadata": {},
   "outputs": [],
   "source": [
    "standings = {\n",
    "    'Man City':86,\n",
    "    'Liverpool':85,\n",
    "    'Tottenham':67,\n",
    "    'Arsenal': 66,\n",
    "    'Chelsea': 66,\n",
    "    'Man United':64,\n",
    "    'Liecester':48,\n",
    "    'Wolves':48,\n",
    "    'Everton':46,\n",
    "    'Watford':49,\n",
    "    'West Ham':43,\n",
    "    'Bournemouth':41,\n",
    "    'Crystal Palace':39,\n",
    "    'Burnley':39,\n",
    "    'Newcastle':38,\n",
    "    'Southampton':36,\n",
    "    'Brighton':34,\n",
    "    'Cardiff':31,\n",
    "    'Fulham':23,\n",
    "    'Huddersfield':14,\n",
    "    \n",
    "}"
   ]
  },
  {
   "cell_type": "code",
   "execution_count": 60,
   "metadata": {},
   "outputs": [],
   "source": [
    "ratings = {\n",
    "     'Man City':2008,\n",
    "    'Liverpool':2006,\n",
    "    'Tottenham':1916,\n",
    "    'Arsenal': 1901,\n",
    "    'Chelsea': 1864,\n",
    "    'Man United':1888,\n",
    "    'Liecester':1709,\n",
    "    'Wolves':1685,\n",
    "    'Everton':1724,\n",
    "    'Watford':1704,\n",
    "        'West Ham':1679,\n",
    "    'Bournemouth':1686,\n",
    "    'Crystal Palace':1705,\n",
    "    'Burnley':1682,\n",
    "    'Newcastle':1685,\n",
    "    'Southampton':1688,\n",
    "        'Brighton':1598,\n",
    "        'Cardiff':1590,\n",
    "    'Fulham':1575,\n",
    "    'Huddersfield':1505,\n",
    "}"
   ]
  },
  {
   "cell_type": "code",
   "execution_count": 61,
   "metadata": {},
   "outputs": [],
   "source": [
    "fixtures = [\n",
    "    ['Newcastle','Southampton'],\n",
    "    ['Everton','Man United'],\n",
    "    ['Cardiff','Liverpool'],\n",
    "    ['Arsenal','Crystal Palace'],\n",
    "    ['Chelsea','Burnley'],\n",
    "    ['Watford','Southampton'],\n",
    "    ['Tottenham','Brighton'],\n",
    "    ['Wolves','Arsenal'],\n",
    "    ['Man United','Man City'],\n",
    "    ['Liverpool','Huddersfield'],\n",
    "    ['Tottenham','West Ham'],\n",
    "    ['Southampton','Bournemouth'],\n",
    "    ['Fulham','Cardiff'],\n",
    "    ['Watford','Wolves'],\n",
    "    ['Crystal Palace','Everton'],\n",
    "    ['Brighton','Newcastle'],\n",
    "    ['Burnley','Man City'],\n",
    "    ['Man United','Chelsea'],\n",
    "    ['Liecester','Arsenal'],\n",
    "    ['Everton','Burnley'],\n",
    "    ['Man City','Liecester'],\n",
    "    ['West Ham','Southampton'],\n",
    "    ['Wolves','Fulham'],\n",
    "    ['Chelsea','Watford'],\n",
    "    ['Arsenal','Brighton'],\n",
    "    ['Cardiff','Crystal Palace'],\n",
    "    ['Huddersfield','Man United'],\n",
    "    ['Newcastle','Liverpool'],\n",
    "    ['Bournemouth','Tottenham'],\n",
    "    ['Tottenham','Everton'],\n",
    "    ['Man United','Cardiff'],\n",
    "    ['Watford','West Ham'],\n",
    "    ['Southampton','Huddersfield'],\n",
    "    ['Liecester','Chelsea'],\n",
    "    ['Fulham','Newcastle'],\n",
    "    ['Liverpool','Wolves'],\n",
    "    ['Crystal Palace','Bournemouth'],\n",
    "    ['Brighton','Man City'],\n",
    "    ['Burnley','Arsenal'],\n",
    "]"
   ]
  },
  {
   "cell_type": "code",
   "execution_count": 62,
   "metadata": {},
   "outputs": [],
   "source": [
    "l = elo.League(ratings=deepcopy(ratings),\n",
    "          standings=deepcopy(standings),\n",
    "          fixtures=deepcopy(fixtures))"
   ]
  },
  {
   "cell_type": "code",
   "execution_count": 82,
   "metadata": {},
   "outputs": [
    {
     "name": "stdout",
     "output_type": "stream",
     "text": [
      "0/100000\n",
      "1000/100000\n",
      "2000/100000\n",
      "3000/100000\n",
      "4000/100000\n",
      "5000/100000\n",
      "6000/100000\n",
      "7000/100000\n",
      "8000/100000\n",
      "9000/100000\n",
      "10000/100000\n",
      "11000/100000\n",
      "12000/100000\n",
      "13000/100000\n",
      "14000/100000\n",
      "15000/100000\n",
      "16000/100000\n",
      "17000/100000\n",
      "18000/100000\n",
      "19000/100000\n",
      "20000/100000\n",
      "21000/100000\n",
      "22000/100000\n",
      "23000/100000\n",
      "24000/100000\n",
      "25000/100000\n",
      "26000/100000\n",
      "27000/100000\n",
      "28000/100000\n",
      "29000/100000\n",
      "30000/100000\n",
      "31000/100000\n",
      "32000/100000\n",
      "33000/100000\n",
      "34000/100000\n",
      "35000/100000\n",
      "36000/100000\n",
      "37000/100000\n",
      "38000/100000\n",
      "39000/100000\n",
      "40000/100000\n",
      "41000/100000\n",
      "42000/100000\n",
      "43000/100000\n",
      "44000/100000\n",
      "45000/100000\n",
      "46000/100000\n",
      "47000/100000\n",
      "48000/100000\n",
      "49000/100000\n",
      "50000/100000\n",
      "51000/100000\n",
      "52000/100000\n",
      "53000/100000\n",
      "54000/100000\n",
      "55000/100000\n",
      "56000/100000\n",
      "57000/100000\n",
      "58000/100000\n",
      "59000/100000\n",
      "60000/100000\n",
      "61000/100000\n",
      "62000/100000\n",
      "63000/100000\n",
      "64000/100000\n",
      "65000/100000\n",
      "66000/100000\n",
      "67000/100000\n",
      "68000/100000\n",
      "69000/100000\n",
      "70000/100000\n",
      "71000/100000\n",
      "72000/100000\n",
      "73000/100000\n",
      "74000/100000\n",
      "75000/100000\n",
      "76000/100000\n",
      "77000/100000\n",
      "78000/100000\n",
      "79000/100000\n",
      "80000/100000\n",
      "81000/100000\n",
      "82000/100000\n",
      "83000/100000\n",
      "84000/100000\n",
      "85000/100000\n",
      "86000/100000\n",
      "87000/100000\n",
      "88000/100000\n",
      "89000/100000\n",
      "90000/100000\n",
      "91000/100000\n",
      "92000/100000\n",
      "93000/100000\n",
      "94000/100000\n",
      "95000/100000\n",
      "96000/100000\n",
      "97000/100000\n",
      "98000/100000\n",
      "99000/100000\n"
     ]
    }
   ],
   "source": [
    "points_totals = []\n",
    "rankings = []\n",
    "SAMPLE_NUM = 100000\n",
    "for i, _ in enumerate(range(SAMPLE_NUM)):\n",
    "    if i % 1000 == 0: print(f'{i}/{SAMPLE_NUM}')\n",
    "    l = elo.League(ratings=deepcopy(ratings),\n",
    "          standings=deepcopy(standings),\n",
    "          fixtures=deepcopy(fixtures))\n",
    "    final_points, final_rankings = l.sim()\n",
    "    points_totals.append(final_points)\n",
    "    rankings.append(final_rankings)"
   ]
  },
  {
   "cell_type": "code",
   "execution_count": 83,
   "metadata": {},
   "outputs": [],
   "source": [
    "rankings_df = pd.melt(pd.DataFrame(rankings)).rename(columns={'variable':'club',\n",
    "                           'value':'position'})"
   ]
  },
  {
   "cell_type": "code",
   "execution_count": null,
   "metadata": {},
   "outputs": [],
   "source": []
  },
  {
   "cell_type": "code",
   "execution_count": 84,
   "metadata": {},
   "outputs": [],
   "source": [
    "title_race = rankings_df.loc[rankings_df.position == 1,'club'].value_counts()"
   ]
  },
  {
   "cell_type": "code",
   "execution_count": 115,
   "metadata": {},
   "outputs": [],
   "source": [
    "def count_plot(labels, values, title):\n",
    "    indexes = np.arange(len(labels))\n",
    "    plt.bar(indexes, values, 1)\n",
    "    plt.xticks(indexes, labels, rotation=45)\n",
    "    plt.ylabel(\"prob. (%)\")\n",
    "    plt.title(title)\n",
    "    plt.show()"
   ]
  },
  {
   "cell_type": "code",
   "execution_count": 116,
   "metadata": {},
   "outputs": [
    {
     "data": {
      "image/png": "[encoded data removed]",
      "text/plain": [
       "<Figure size 432x288 with 1 Axes>"
      ]
     },
     "metadata": {},
     "output_type": "display_data"
    }
   ],
   "source": [
    "ax = title_race.plot.pie()\n",
    "ax.set_title('League winning prob. \\n')\n",
    "plt.show()"
   ]
  },
  {
   "cell_type": "code",
   "execution_count": 152,
   "metadata": {},
   "outputs": [],
   "source": [
    "top_4 = (rankings_df.loc[\n",
    "    rankings_df.position < 5,'club'].value_counts() / SAMPLE_NUM)\n"
   ]
  },
  {
   "cell_type": "code",
   "execution_count": 153,
   "metadata": {},
   "outputs": [
    {
     "data": {
      "text/plain": [
       "Man City      1.00000\n",
       "Liverpool     1.00000\n",
       "Arsenal       0.91287\n",
       "Tottenham     0.64841\n",
       "Chelsea       0.30616\n",
       "Man United    0.13256\n",
       "Name: club, dtype: float64"
      ]
     },
     "execution_count": 153,
     "metadata": {},
     "output_type": "execute_result"
    }
   ],
   "source": [
    "top_4"
   ]
  },
  {
   "cell_type": "code",
   "execution_count": 154,
   "metadata": {},
   "outputs": [
    {
     "data": {
      "image/png": "[encoded data removed]",
      "text/plain": [
       "<Figure size 432x288 with 1 Axes>"
      ]
     },
     "metadata": {},
     "output_type": "display_data"
    }
   ],
   "source": [
    "count_plot(top_4.index,top_4 * 100,'Top 4')"
   ]
  },
  {
   "cell_type": "code",
   "execution_count": 155,
   "metadata": {},
   "outputs": [
    {
     "data": {
      "text/html": [
       "<div>\n",
       "<style scoped>\n",
       "    .dataframe tbody tr th:only-of-type {\n",
       "        vertical-align: middle;\n",
       "    }\n",
       "\n",
       "    .dataframe tbody tr th {\n",
       "        vertical-align: top;\n",
       "    }\n",
       "\n",
       "    .dataframe thead th {\n",
       "        text-align: right;\n",
       "    }\n",
       "</style>\n",
       "<table border=\"1\" class=\"dataframe\">\n",
       "  <thead>\n",
       "    <tr style=\"text-align: right;\">\n",
       "      <th></th>\n",
       "      <th>index</th>\n",
       "      <th>club</th>\n",
       "    </tr>\n",
       "  </thead>\n",
       "  <tbody>\n",
       "    <tr>\n",
       "      <th>0</th>\n",
       "      <td>Man City</td>\n",
       "      <td>1.00000</td>\n",
       "    </tr>\n",
       "    <tr>\n",
       "      <th>1</th>\n",
       "      <td>Liverpool</td>\n",
       "      <td>1.00000</td>\n",
       "    </tr>\n",
       "    <tr>\n",
       "      <th>2</th>\n",
       "      <td>Arsenal</td>\n",
       "      <td>0.91287</td>\n",
       "    </tr>\n",
       "    <tr>\n",
       "      <th>3</th>\n",
       "      <td>Tottenham</td>\n",
       "      <td>0.64841</td>\n",
       "    </tr>\n",
       "    <tr>\n",
       "      <th>4</th>\n",
       "      <td>Chelsea</td>\n",
       "      <td>0.30616</td>\n",
       "    </tr>\n",
       "    <tr>\n",
       "      <th>5</th>\n",
       "      <td>Man United</td>\n",
       "      <td>0.13256</td>\n",
       "    </tr>\n",
       "  </tbody>\n",
       "</table>\n",
       "</div>"
      ],
      "text/plain": [
       "        index     club\n",
       "0    Man City  1.00000\n",
       "1   Liverpool  1.00000\n",
       "2     Arsenal  0.91287\n",
       "3   Tottenham  0.64841\n",
       "4     Chelsea  0.30616\n",
       "5  Man United  0.13256"
      ]
     },
     "execution_count": 155,
     "metadata": {},
     "output_type": "execute_result"
    }
   ],
   "source": [
    "pd.DataFrame(top_4).reset_index()"
   ]
  },
  {
   "cell_type": "code",
   "execution_count": 156,
   "metadata": {},
   "outputs": [],
   "source": [
    "religated = rankings_df.loc[rankings_df.position > 17,'club'].value_counts() / SAMPLE_NUM"
   ]
  },
  {
   "cell_type": "code",
   "execution_count": 157,
   "metadata": {},
   "outputs": [
    {
     "data": {
      "image/png": "[encoded data removed]",
      "text/plain": [
       "<Figure size 432x288 with 1 Axes>"
      ]
     },
     "metadata": {},
     "output_type": "display_data"
    }
   ],
   "source": [
    "count_plot(religated.index,religated * 100,'Religated')"
   ]
  },
  {
   "cell_type": "code",
   "execution_count": 158,
   "metadata": {},
   "outputs": [],
   "source": [
    "points_df = pd.melt(pd.DataFrame(points_totals)).rename(columns={'variable':'club',\n",
    "                           'value':'points'})"
   ]
  },
  {
   "cell_type": "code",
   "execution_count": null,
   "metadata": {},
   "outputs": [],
   "source": [
    "sns.violinplot(data=points_df,y='club',x='points')"
   ]
  },
  {
   "cell_type": "code",
   "execution_count": null,
   "metadata": {},
   "outputs": [],
   "source": []
  }
 ],
 "metadata": {
  "kernelspec": {
   "display_name": "Python 3",
   "language": "python",
   "name": "python3"
  },
  "language_info": {
   "codemirror_mode": {
    "name": "ipython",
    "version": 3
   },
   "file_extension": ".py",
   "mimetype": "text/x-python",
   "name": "python",
   "nbconvert_exporter": "python",
   "pygments_lexer": "ipython3",
   "version": "3.7.1"
  }
 },
 "nbformat": 4,
 "nbformat_minor": 2
}
