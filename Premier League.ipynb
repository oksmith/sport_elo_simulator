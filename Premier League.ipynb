{
 "cells": [
  {
   "cell_type": "code",
   "execution_count": 1,
   "metadata": {},
   "outputs": [],
   "source": [
    "import pandas as pd\n",
    "import numpy as np\n",
    "import seaborn as sns\n",
    "import elo\n",
    "from copy import deepcopy\n",
    "import matplotlib.pyplot as plt\n",
    "sns.set_style('whitegrid')\n",
    "import ratings_scraper"
   ]
  },
  {
   "cell_type": "code",
   "execution_count": 2,
   "metadata": {},
   "outputs": [],
   "source": [
    "SAMPLE_NUM = 10000"
   ]
  },
  {
   "cell_type": "markdown",
   "metadata": {},
   "source": [
    "Hacky - adding numbers < 1 to teams with big goal difference advantage"
   ]
  },
  {
   "cell_type": "code",
   "execution_count": 53,
   "metadata": {},
   "outputs": [],
   "source": [
    "standings = {\n",
    "    'Man City':92.5,\n",
    "    'Liverpool':91,\n",
    "    'Tottenham':70.7,\n",
    "    'Arsenal': 66,\n",
    "    'Chelsea': 67,\n",
    "    'Man United':67,\n",
    "    'Leicester':51,\n",
    "    'Wolves':54,\n",
    "    'Everton':50,\n",
    "    'Watford':50,\n",
    "    'West Ham':46,\n",
    "    'Bournemouth':42,\n",
    "    'Crystal Palace':43,\n",
    "    'Burnley':40,\n",
    "    'Newcastle':42,\n",
    "    'Southampton':38,\n",
    "    'Brighton':35.5,\n",
    "    'Cardiff':31,\n",
    "    'Fulham':26,\n",
    "    'Huddersfield':14,   \n",
    "}"
   ]
  },
  {
   "cell_type": "markdown",
   "metadata": {},
   "source": [
    "Only run if you want to update ratings - needs internet connection!"
   ]
  },
  {
   "cell_type": "code",
   "execution_count": 54,
   "metadata": {},
   "outputs": [
    {
     "name": "stdout",
     "output_type": "stream",
     "text": [
      "Done!\n"
     ]
    }
   ],
   "source": [
    "ratings_scraper.update_ratings()"
   ]
  },
  {
   "cell_type": "code",
   "execution_count": 55,
   "metadata": {},
   "outputs": [],
   "source": [
    "ratings_df = pd.read_csv('data/ratings_latest.csv')"
   ]
  },
  {
   "cell_type": "code",
   "execution_count": 56,
   "metadata": {},
   "outputs": [],
   "source": [
    "prem_clubs = ['Man City',\n",
    " 'Liverpool',\n",
    " 'Tottenham',\n",
    " 'Arsenal',\n",
    " 'Chelsea',\n",
    " 'Man United',\n",
    " 'Leicester',\n",
    " 'Wolves',\n",
    " 'Everton',\n",
    " 'Watford',\n",
    " 'West Ham',\n",
    " 'Bournemouth',\n",
    " 'Crystal Palace',\n",
    " 'Burnley',\n",
    " 'Newcastle',\n",
    " 'Southampton',\n",
    " 'Brighton',\n",
    " 'Cardiff',\n",
    " 'Fulham',\n",
    " 'Huddersfield']"
   ]
  },
  {
   "cell_type": "code",
   "execution_count": 57,
   "metadata": {},
   "outputs": [],
   "source": [
    "ratings = ratings_scraper.filter_ratings(ratings_df, prem_clubs)"
   ]
  },
  {
   "cell_type": "code",
   "execution_count": 58,
   "metadata": {},
   "outputs": [
    {
     "data": {
      "text/plain": [
       "{'Man City': 2020,\n",
       " 'Liverpool': 2009,\n",
       " 'Tottenham': 1913,\n",
       " 'Arsenal': 1871,\n",
       " 'Man United': 1858,\n",
       " 'Chelsea': 1858,\n",
       " 'Everton': 1746,\n",
       " 'Crystal Palace': 1720,\n",
       " 'Leicester': 1710,\n",
       " 'Watford': 1706,\n",
       " 'Wolves': 1697,\n",
       " 'Newcastle': 1694,\n",
       " 'Burnley': 1688,\n",
       " 'Southampton': 1682,\n",
       " 'West Ham': 1678,\n",
       " 'Bournemouth': 1674,\n",
       " 'Brighton': 1601,\n",
       " 'Cardiff': 1588,\n",
       " 'Fulham': 1587,\n",
       " 'Huddersfield': 1500}"
      ]
     },
     "execution_count": 58,
     "metadata": {},
     "output_type": "execute_result"
    }
   ],
   "source": [
    "ratings"
   ]
  },
  {
   "cell_type": "code",
   "execution_count": 59,
   "metadata": {},
   "outputs": [],
   "source": [
    "fixtures = [\n",
    "    ['Everton','Burnley'],\n",
    "    ['Man City','Leicester'],\n",
    "    ['West Ham','Southampton'],\n",
    "    ['Wolves','Fulham'],\n",
    "    ['Chelsea','Watford'],\n",
    "    ['Arsenal','Brighton'],\n",
    "    ['Cardiff','Crystal Palace'],\n",
    "    ['Huddersfield','Man United'],\n",
    "    ['Newcastle','Liverpool'],\n",
    "    ['Bournemouth','Tottenham'],\n",
    "    ['Tottenham','Everton'],\n",
    "    ['Man United','Cardiff'],\n",
    "    ['Watford','West Ham'],\n",
    "    ['Southampton','Huddersfield'],\n",
    "    ['Leicester','Chelsea'],\n",
    "    ['Fulham','Newcastle'],\n",
    "    ['Liverpool','Wolves'],\n",
    "    ['Crystal Palace','Bournemouth'],\n",
    "    ['Brighton','Man City'],\n",
    "    ['Burnley','Arsenal'],\n",
    "]"
   ]
  },
  {
   "cell_type": "code",
   "execution_count": 60,
   "metadata": {},
   "outputs": [],
   "source": [
    "l = elo.League(ratings=deepcopy(ratings),\n",
    "          standings=deepcopy(standings),\n",
    "          fixtures=deepcopy(fixtures),\n",
    "              k_factor=15,\n",
    "              draw_rate=0.4,\n",
    "              home_advantage=0.3)"
   ]
  },
  {
   "cell_type": "code",
   "execution_count": 61,
   "metadata": {},
   "outputs": [
    {
     "data": {
      "text/plain": [
       "(0.3275614282311081,\n",
       " (0.2456710711733311, 0.16378071411555406, 0.5905482147111148))"
      ]
     },
     "execution_count": 61,
     "metadata": {},
     "output_type": "execute_result"
    }
   ],
   "source": [
    "l.get_outcome_probs('Wolves','Arsenal')"
   ]
  },
  {
   "cell_type": "code",
   "execution_count": 62,
   "metadata": {},
   "outputs": [
    {
     "name": "stdout",
     "output_type": "stream",
     "text": [
      "9000/10000\n"
     ]
    }
   ],
   "source": [
    "points_totals, rankings = elo.sim_multiple_leagues(ratings, standings, fixtures, SAMPLE_NUM,\n",
    "                                                  k_factor = 15, draw_rate = 0.4, home_advantage=0.5)"
   ]
  },
  {
   "cell_type": "code",
   "execution_count": 63,
   "metadata": {},
   "outputs": [],
   "source": [
    "def show_fixtures(team, fixtures):\n",
    "    for f in [f for f in fixtures if f[0] == team or f[1] == team]:\n",
    "        print(f)\n",
    "        print(l.get_outcome_probs(*f))\n"
   ]
  },
  {
   "cell_type": "code",
   "execution_count": 64,
   "metadata": {},
   "outputs": [
    {
     "name": "stdout",
     "output_type": "stream",
     "text": [
      "['Cardiff', 'Crystal Palace']\n",
      "(0.38381488246117385, (0.2878611618458804, 0.19190744123058692, 0.5202313969235327))\n",
      "['Man United', 'Cardiff']\n",
      "(0.8687358368269398, (0.8359197960336747, 0.06563208158653011, 0.09844812237979517))\n",
      "\n",
      "['Arsenal', 'Brighton']\n",
      "(0.8687358368269399, (0.8359197960336748, 0.06563208158653006, 0.09844812237979511))\n",
      "['Brighton', 'Man City']\n",
      "(0.10491471767755765, (0.07868603825816824, 0.05245735883877883, 0.868856602903053))\n",
      "\n"
     ]
    }
   ],
   "source": [
    "for team in ['Cardiff','Brighton']:\n",
    "    show_fixtures(team,fixtures)\n",
    "    print()"
   ]
  },
  {
   "cell_type": "code",
   "execution_count": 65,
   "metadata": {},
   "outputs": [
    {
     "name": "stdout",
     "output_type": "stream",
     "text": [
      "['Arsenal', 'Brighton']\n",
      "(0.8687358368269399, (0.8359197960336748, 0.06563208158653006, 0.09844812237979511))\n",
      "['Burnley', 'Arsenal']\n",
      "(0.31607943322669, (0.2370595749200175, 0.158039716613345, 0.6049007084666375))\n",
      "\n",
      "['Chelsea', 'Watford']\n",
      "(0.7680775693105263, (0.7100969616381578, 0.11596121534473686, 0.1739418230171053))\n",
      "['Leicester', 'Chelsea']\n",
      "(0.36190502696426663, (0.2714287702232, 0.18095251348213331, 0.5476187162946666))\n",
      "\n",
      "['Huddersfield', 'Man United']\n",
      "(0.1430252769504623, (0.10726895771284672, 0.07151263847523115, 0.8212184038119221))\n",
      "['Man United', 'Cardiff']\n",
      "(0.8687358368269398, (0.8359197960336747, 0.06563208158653011, 0.09844812237979517))\n",
      "\n",
      "['Bournemouth', 'Tottenham']\n",
      "(0.24998774987094746, (0.18749081240321058, 0.12499387493547373, 0.6875153126613156))\n",
      "['Tottenham', 'Everton']\n",
      "(0.7834172273753988, (0.7292715342192484, 0.10829138631230062, 0.16243707946845098))\n",
      "\n"
     ]
    }
   ],
   "source": [
    "for team in ['Arsenal','Chelsea','Man United','Tottenham']:\n",
    "    show_fixtures(team,fixtures)\n",
    "    print()"
   ]
  },
  {
   "cell_type": "code",
   "execution_count": 66,
   "metadata": {},
   "outputs": [
    {
     "name": "stdout",
     "output_type": "stream",
     "text": [
      "['Newcastle', 'Liverpool']\n",
      "(0.17641362284497866, (0.132310217133734, 0.08820681142248933, 0.7794829714437767))\n",
      "['Liverpool', 'Wolves']\n",
      "(0.8942864037221696, (0.867858004652712, 0.052856798138915195, 0.07928519720837279))\n",
      "\n",
      "['Man City', 'Leicester']\n",
      "(0.8931774010008975, (0.8664717512511219, 0.05341129949955126, 0.08011694924932689))\n",
      "['Brighton', 'Man City']\n",
      "(0.10491471767755765, (0.07868603825816824, 0.05245735883877883, 0.868856602903053))\n",
      "\n"
     ]
    }
   ],
   "source": [
    "for team in ['Liverpool','Man City']:\n",
    "    show_fixtures(team,fixtures)\n",
    "    print()"
   ]
  },
  {
   "cell_type": "code",
   "execution_count": 67,
   "metadata": {},
   "outputs": [],
   "source": [
    "rankings_df = pd.melt(pd.DataFrame(rankings)).rename(columns={'variable':'club',\n",
    "                           'value':'position'})"
   ]
  },
  {
   "cell_type": "code",
   "execution_count": 68,
   "metadata": {},
   "outputs": [],
   "source": [
    "title_race = rankings_df.loc[rankings_df.position == 1,'club'].value_counts() / SAMPLE_NUM"
   ]
  },
  {
   "cell_type": "code",
   "execution_count": 69,
   "metadata": {},
   "outputs": [
    {
     "data": {
      "image/png": "[encoded data removed]",
      "text/plain": [
       "<Figure size 432x288 with 1 Axes>"
      ]
     },
     "metadata": {
      "needs_background": "light"
     },
     "output_type": "display_data"
    }
   ],
   "source": [
    "elo.plot_series(title_race.index,title_race * 100,'Title Race')"
   ]
  },
  {
   "cell_type": "code",
   "execution_count": 70,
   "metadata": {},
   "outputs": [],
   "source": [
    "top_4 = (rankings_df.loc[\n",
    "    (rankings_df.position < 5) & \n",
    "    (rankings_df.position > 2),'club'].value_counts() / SAMPLE_NUM)\n"
   ]
  },
  {
   "cell_type": "code",
   "execution_count": 71,
   "metadata": {},
   "outputs": [
    {
     "data": {
      "image/png": "[encoded data removed]",
      "text/plain": [
       "<Figure size 432x288 with 1 Axes>"
      ]
     },
     "metadata": {
      "needs_background": "light"
     },
     "output_type": "display_data"
    }
   ],
   "source": [
    "elo.plot_series(top_4.index,top_4 * 100,'Top 4')"
   ]
  },
  {
   "cell_type": "code",
   "execution_count": 72,
   "metadata": {},
   "outputs": [
    {
     "data": {
      "text/plain": [
       "Tottenham     0.9801\n",
       "Man United    0.5946\n",
       "Chelsea       0.3620\n",
       "Arsenal       0.0633\n",
       "Name: club, dtype: float64"
      ]
     },
     "execution_count": 72,
     "metadata": {},
     "output_type": "execute_result"
    }
   ],
   "source": [
    "top_4"
   ]
  },
  {
   "cell_type": "code",
   "execution_count": 73,
   "metadata": {},
   "outputs": [],
   "source": [
    "religated = rankings_df.loc[rankings_df.position > 17,'club'].value_counts() / SAMPLE_NUM"
   ]
  },
  {
   "cell_type": "code",
   "execution_count": 74,
   "metadata": {},
   "outputs": [
    {
     "data": {
      "image/png": "[encoded data removed]",
      "text/plain": [
       "<Figure size 432x288 with 1 Axes>"
      ]
     },
     "metadata": {
      "needs_background": "light"
     },
     "output_type": "display_data"
    }
   ],
   "source": [
    "elo.plot_series(religated.index,religated * 100,'Religated')"
   ]
  },
  {
   "cell_type": "code",
   "execution_count": 75,
   "metadata": {},
   "outputs": [],
   "source": [
    "points_df = pd.melt(pd.DataFrame(points_totals)).rename(columns={'variable':'club',\n",
    "                           'value':'points'})"
   ]
  },
  {
   "cell_type": "code",
   "execution_count": 76,
   "metadata": {},
   "outputs": [
    {
     "data": {
      "text/plain": [
       "<matplotlib.axes._subplots.AxesSubplot at 0x1a2209ada0>"
      ]
     },
     "execution_count": 76,
     "metadata": {},
     "output_type": "execute_result"
    },
    {
     "data": {
      "image/png": "[encoded data removed]",
      "text/plain": [
       "<Figure size 432x288 with 1 Axes>"
      ]
     },
     "metadata": {
      "needs_background": "light"
     },
     "output_type": "display_data"
    }
   ],
   "source": [
    "sns.boxplot(data=points_df,y='club',x='points')"
   ]
  },
  {
   "cell_type": "code",
   "execution_count": 77,
   "metadata": {},
   "outputs": [
    {
     "data": {
      "text/plain": [
       "<matplotlib.axes._subplots.AxesSubplot at 0x1a2036f278>"
      ]
     },
     "execution_count": 77,
     "metadata": {},
     "output_type": "execute_result"
    },
    {
     "data": {
      "image/png": "[encoded data removed]",
      "text/plain": [
       "<Figure size 432x288 with 1 Axes>"
      ]
     },
     "metadata": {
      "needs_background": "light"
     },
     "output_type": "display_data"
    }
   ],
   "source": [
    "sns.boxplot(data=points_df.loc[points_df.club.isin(['Arsenal','Chelsea','Tottenham','Man United']),:]\n",
    "                               ,y='club',x='points')"
   ]
  },
  {
   "cell_type": "code",
   "execution_count": null,
   "metadata": {},
   "outputs": [],
   "source": []
  },
  {
   "cell_type": "code",
   "execution_count": null,
   "metadata": {},
   "outputs": [],
   "source": []
  }
 ],
 "metadata": {
  "kernelspec": {
   "display_name": "Python 3",
   "language": "python",
   "name": "python3"
  },
  "language_info": {
   "codemirror_mode": {
    "name": "ipython",
    "version": 3
   },
   "file_extension": ".py",
   "mimetype": "text/x-python",
   "name": "python",
   "nbconvert_exporter": "python",
   "pygments_lexer": "ipython3",
   "version": "3.7.3"
  }
 },
 "nbformat": 4,
 "nbformat_minor": 2
}
