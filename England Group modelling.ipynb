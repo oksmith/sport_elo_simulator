{
 "cells": [
  {
   "cell_type": "code",
   "execution_count": 154,
   "metadata": {
    "collapsed": false
   },
   "outputs": [],
   "source": [
    "import random\n",
    "from copy import deepcopy\n",
    "from collections import Counter\n",
    "\n",
    "import matplotlib.pyplot as plt\n",
    "import seaborn as sns\n",
    "import numpy as np\n",
    "\n",
    "%matplotlib inline\n"
   ]
  },
  {
   "cell_type": "markdown",
   "metadata": {},
   "source": [
    "Would it have made sense for England to deliberately lose their group? Let's do some simulations of both halves of the draw to find out?"
   ]
  },
  {
   "cell_type": "markdown",
   "metadata": {},
   "source": [
    "How good are the 16 teams? Using their ELO ratings from https://www.eloratings.net/. Hard to tell from this - Japan would have been easier than Colombia, but after that the 2nd place draw looks easier"
   ]
  },
  {
   "cell_type": "code",
   "execution_count": 155,
   "metadata": {
    "collapsed": true
   },
   "outputs": [],
   "source": [
    "team_elos = {\n",
    "        \"Uruguay\":1954,\n",
    "        \"Russia\":1692,\n",
    "        \"Spain\":2028,\n",
    "        \"Portugal\":1972,\n",
    "       \"France\":2007,\n",
    "       \"Denmark\":1890,\n",
    "       \"Croatia\":1956,\n",
    "       \"Argentina\":1918,\n",
    "       \"Brazil\":2142,\n",
    "       \"Switzerland\":1913,\n",
    "       \"Sweden\":1872,\n",
    "       \"Mexico\":1843,\n",
    "       \"England\":1974,\n",
    "       \"Belgium\":1971,\n",
    "       \"Japan\":1737,\n",
    "       \"Colombia\":1920\n",
    " }"
   ]
  },
  {
   "cell_type": "markdown",
   "metadata": {},
   "source": [
    "What are the two possible draws?"
   ]
  },
  {
   "cell_type": "markdown",
   "metadata": {},
   "source": [
    "England finish 2nd in group"
   ]
  },
  {
   "cell_type": "code",
   "execution_count": 156,
   "metadata": {
    "collapsed": true
   },
   "outputs": [],
   "source": [
    "draw_1 = [\n",
    "    [\n",
    "        [\n",
    "            ['France','Argentina'],\n",
    "            ['Uruguay','Portugal']\n",
    "        ],\n",
    "        [\n",
    "            ['Brazil','Mexico'],\n",
    "            ['Belgium','Japan']\n",
    "        ]\n",
    "    ],\n",
    "    [\n",
    "        [\n",
    "            ['Spain','Russia'],\n",
    "            ['Croatia','Denmark']\n",
    "        ],\n",
    "    \n",
    "        [\n",
    "             ['Sweden','Switzerland'],\n",
    "             ['England','Colombia']\n",
    "        ]\n",
    "    ]\n",
    "]"
   ]
  },
  {
   "cell_type": "markdown",
   "metadata": {},
   "source": [
    "England finish top"
   ]
  },
  {
   "cell_type": "code",
   "execution_count": 157,
   "metadata": {
    "collapsed": true
   },
   "outputs": [],
   "source": [
    "draw_2 = [\n",
    "    [\n",
    "        [\n",
    "            ['France','Argentina'],\n",
    "            ['Uruguay','Portugal']\n",
    "        ],\n",
    "        [\n",
    "            ['Brazil','Mexico'],\n",
    "            ['England','Japan']\n",
    "        ]\n",
    "    ],\n",
    "    [\n",
    "        [\n",
    "            ['Spain','Russia'],\n",
    "            ['Croatia','Denmark']\n",
    "        ],\n",
    "    \n",
    "        [\n",
    "             ['Sweden','Switzerland'],\n",
    "             ['Belgium','Colombia']\n",
    "        ]\n",
    "    ]\n",
    "]"
   ]
  },
  {
   "cell_type": "markdown",
   "metadata": {},
   "source": [
    "Let's use the ELO formula to work a team's winning chances vs. a rival"
   ]
  },
  {
   "cell_type": "code",
   "execution_count": 158,
   "metadata": {
    "collapsed": true
   },
   "outputs": [],
   "source": [
    "def get_elo_win_prob(team_1,team_2):\n",
    "    \"Gets the chance of first team winning, given two teams current elo ratings\"\n",
    "    #Formula for elo: e1 = 10^(r1/400)/[10^(r1/400) + 10^(r2/400)]\n",
    "    rating_1 =  latest_elos[team_1]/400\n",
    "    rating_2 =  latest_elos[team_2]/400\n",
    "    q1 = 10.0 ** rating_1\n",
    "    q2 = 10.0 ** rating_2\n",
    "    return q1/(q1+q2)"
   ]
  },
  {
   "cell_type": "markdown",
   "metadata": {},
   "source": [
    "What are England's chances against Brazil?"
   ]
  },
  {
   "cell_type": "code",
   "execution_count": 159,
   "metadata": {
    "collapsed": false
   },
   "outputs": [
    {
     "name": "stdout",
     "output_type": "stream",
     "text": [
      "England's win chances: 7.6%\n"
     ]
    }
   ],
   "source": [
    "#So we don't change the global variable - will delete later \n",
    "latest_elos = team_elos\n",
    "england_chance = get_elo_win_prob('England','Brazil')\n",
    "print(\"England's win chances: {0:.1%}\".format(draw_1_sim['England']))"
   ]
  },
  {
   "cell_type": "markdown",
   "metadata": {},
   "source": [
    "Simulate game between teams (updates Elos)"
   ]
  },
  {
   "cell_type": "code",
   "execution_count": 160,
   "metadata": {
    "collapsed": true
   },
   "outputs": [],
   "source": [
    "def sim_game_and_update_elos(teams):\n",
    "    team_1, team_2 = teams\n",
    "    \"Sims a game between two teams, returning name of winning team. Aso updates global 'team_elos' values (hot sim)\"\n",
    "    threshold = get_elo_win_prob(team_1,team_2)\n",
    "    outcome = random.random()\n",
    "    \n",
    "    latest_elos[team_1] += (outcome-threshold)*k_factor\n",
    "    \n",
    "    latest_elos[team_2] += (threshold-outcome)*k_factor\n",
    "    \n",
    "    if outcome <= threshold:\n",
    "        return team_1\n",
    "    else:\n",
    "        return team_2\n"
   ]
  },
  {
   "cell_type": "markdown",
   "metadata": {},
   "source": [
    "Simulating 10 games vs. Argentina"
   ]
  },
  {
   "cell_type": "code",
   "execution_count": 161,
   "metadata": {
    "collapsed": false
   },
   "outputs": [
    {
     "name": "stdout",
     "output_type": "stream",
     "text": [
      "England\n",
      "England\n",
      "England\n",
      "Argentina\n",
      "England\n",
      "England\n",
      "England\n",
      "England\n",
      "England\n",
      "England\n"
     ]
    }
   ],
   "source": [
    "for i in range(10):\n",
    "    print(sim_game_and_update_elos(['England','Argentina']))\n",
    "\n"
   ]
  },
  {
   "cell_type": "markdown",
   "metadata": {},
   "source": [
    "Now we can simulate the whole tournament"
   ]
  },
  {
   "cell_type": "code",
   "execution_count": 162,
   "metadata": {
    "collapsed": true
   },
   "outputs": [],
   "source": [
    "def sim_tournament(tree):\n",
    "    if isinstance(tree[0],str):\n",
    "        return sim_game_and_update_elos(tree)\n",
    "    else:\n",
    "        first_half = sim_tournament(deepcopy(tree[0]))\n",
    "        second_half = sim_tournament(deepcopy(tree[1]))\n",
    "        combined = [first_half,second_half]\n",
    "        return sim_tournament(combined)"
   ]
  },
  {
   "cell_type": "code",
   "execution_count": 163,
   "metadata": {
    "collapsed": false
   },
   "outputs": [
    {
     "name": "stdout",
     "output_type": "stream",
     "text": [
      "Spain\n"
     ]
    }
   ],
   "source": [
    "print(sim_tournament(draw_1))\n",
    "\n",
    "#so we use current rating in all sims - won't be changed by tests above\n",
    "del latest_elos"
   ]
  },
  {
   "cell_type": "markdown",
   "metadata": {},
   "source": [
    "Let's do this multiple times to compare England's winning chances in the two scenarios."
   ]
  },
  {
   "cell_type": "code",
   "execution_count": 164,
   "metadata": {
    "collapsed": false
   },
   "outputs": [],
   "source": [
    "def sim_multiple_tournaments(tree,n,elo_dict):\n",
    "    win_count = Counter()\n",
    "    for i in range(n):\n",
    "        global latest_elos\n",
    "        latest_elos = deepcopy(elo_dict)\n",
    "        winner = sim_tournament(tree)\n",
    "        win_count[winner] += (1.0/n)\n",
    "    return win_count\n",
    "\n",
    "def plot_counter(plt_data,title):\n",
    "    labels, values = zip(*sorted(plt_data.items()))\n",
    "\n",
    "    indexes = np.arange(len(labels))\n",
    "    width = 1\n",
    "\n",
    "    plt.bar(indexes, values, width)\n",
    "    plt.xticks(indexes, labels,rotation=60)\n",
    "    plt.ylabel(\"Tournament win probability\")\n",
    "    plt.title(title)\n",
    "    plt.show()\n",
    "    \n",
    "num_sims = 100000\n",
    "k_factor = 5"
   ]
  },
  {
   "cell_type": "markdown",
   "metadata": {},
   "source": [
    "Case 1: England finish 1st in Group"
   ]
  },
  {
   "cell_type": "code",
   "execution_count": 165,
   "metadata": {
    "collapsed": true
   },
   "outputs": [],
   "source": [
    "draw_1_sim = sim_multiple_tournaments(draw_1,num_sims,team_elos)"
   ]
  },
  {
   "cell_type": "code",
   "execution_count": 166,
   "metadata": {
    "collapsed": false
   },
   "outputs": [
    {
     "data": {
      "image/png": "[encoded data removed]",
      "text/plain": [
       "<matplotlib.figure.Figure at 0x10b534da0>"
      ]
     },
     "metadata": {},
     "output_type": "display_data"
    }
   ],
   "source": [
    "\n",
    "plot_counter(draw_1_sim,\"England finish second in group\")\n"
   ]
  },
  {
   "cell_type": "markdown",
   "metadata": {},
   "source": [
    "Case 2: England finish 2nd"
   ]
  },
  {
   "cell_type": "code",
   "execution_count": 167,
   "metadata": {
    "collapsed": false
   },
   "outputs": [],
   "source": [
    "draw_2_sim = sim_multiple_tournaments(draw_2,num_sims,team_elos)\n"
   ]
  },
  {
   "cell_type": "code",
   "execution_count": 168,
   "metadata": {
    "collapsed": false
   },
   "outputs": [
    {
     "data": {
      "image/png": "[encoded data removed]",
      "text/plain": [
       "<matplotlib.figure.Figure at 0x10b4de6d8>"
      ]
     },
     "metadata": {},
     "output_type": "display_data"
    }
   ],
   "source": [
    "plot_counter(draw_2_sim,\"England win group\")\n"
   ]
  },
  {
   "cell_type": "code",
   "execution_count": 169,
   "metadata": {
    "collapsed": false
   },
   "outputs": [
    {
     "name": "stdout",
     "output_type": "stream",
     "text": [
      "England finish second in group: 6.3% winning chance\n"
     ]
    }
   ],
   "source": [
    "print('England finish second in group: {0:.1%} winning chance'.format(draw_1_sim['England']))\n"
   ]
  },
  {
   "cell_type": "code",
   "execution_count": 170,
   "metadata": {
    "collapsed": false
   },
   "outputs": [
    {
     "name": "stdout",
     "output_type": "stream",
     "text": [
      "England finish first in group: 6.3% winning chance\n"
     ]
    }
   ],
   "source": [
    "print('England finish first in group: {0:.1%} winning chance'.format(draw_2_sim['England']))  \n"
   ]
  },
  {
   "cell_type": "code",
   "execution_count": null,
   "metadata": {
    "collapsed": true
   },
   "outputs": [],
   "source": []
  },
  {
   "cell_type": "code",
   "execution_count": null,
   "metadata": {
    "collapsed": true
   },
   "outputs": [],
   "source": []
  }
 ],
 "metadata": {
  "kernelspec": {
   "display_name": "Python 3",
   "language": "python",
   "name": "python3"
  },
  "language_info": {
   "codemirror_mode": {
    "name": "ipython",
    "version": 3
   },
   "file_extension": ".py",
   "mimetype": "text/x-python",
   "name": "python",
   "nbconvert_exporter": "python",
   "pygments_lexer": "ipython3",
   "version": "3.6.5"
  }
 },
 "nbformat": 4,
 "nbformat_minor": 2
}
